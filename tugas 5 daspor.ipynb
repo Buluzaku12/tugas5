{
 "cells": [
  {
   "cell_type": "markdown",
   "id": "0bb4af86",
   "metadata": {},
   "source": [
    "1.\tBuatlah biodata sederhana dengan menggunakan fungsi input(), dan output variabel dengan fungsi format()."
   ]
  },
  {
   "cell_type": "code",
   "execution_count": 2,
   "id": "d98cfdb8",
   "metadata": {},
   "outputs": [
    {
     "name": "stdout",
     "output_type": "stream",
     "text": [
      " NAMA : adbc\n",
      "NIM : 2156156\n",
      "KELAS : 2562\n",
      "matkul : 25\n",
      "NAMA :  adbc ( 2156156 )dari kelas 2562\n",
      "NIM :  2156156\n",
      "KELAS :  2562\n",
      "MATKUL :  25\n",
      "Tanggal : 1\n",
      "Bulan : 5\n",
      "Tahun :  06\n",
      "tanggal 1 bulan 5  tahun 6\n",
      "lahir pada Bulan 5 tanggal 1 tahun 6\n"
     ]
    }
   ],
   "source": [
    "nama = input(\" NAMA : \")\n",
    "nim = int (input(\"NIM : \"))\n",
    "kelas = (input(\"KELAS : \"))\n",
    "matkul = input(\"matkul : \")\n",
    "print(\"NAMA : \",nama,\"(\",nim,\")dari kelas\",kelas)\n",
    "print(\"NIM : \",nim)\n",
    "print(\"KELAS : \",kelas)\n",
    "print(\"MATKUL : \",matkul)\n",
    "\n",
    "\n",
    "\n",
    "#tanggal lahir \n",
    "tanggal = int(input(\"Tanggal : \"))\n",
    "bulan = int(input(\"Bulan : \"))\n",
    "tahun = int(input(\"Tahun :  \"))\n",
    "print (\"tanggal {} bulan {}  tahun {}\" .format(tanggal,bulan,tahun))\n",
    "print (\"lahir pada Bulan {1} tanggal {0} tahun {2}\".format(tanggal,bulan,tahun))\n"
   ]
  },
  {
   "cell_type": "raw",
   "id": "32cfe5d3",
   "metadata": {},
   "source": [
    "2.\tJika terdapat kalimat UNIVERSITAS NUSA PUTRA SUKABUMI ,buatlah kode program untuk menampilkan output:\n",
    "a.\tputra nusa\n",
    "b.\tNIVERSITAS NSA PTRA SKABMI\n",
    "c.\tSUKABUMI PUTRA NUSA UNIVERSITAS\n",
    "d.\tUNPS\n",
    "e.\tTAS SAPU BUMI\n"
   ]
  },
  {
   "cell_type": "code",
   "execution_count": 65,
   "id": "3bb2d3d7",
   "metadata": {
    "scrolled": true
   },
   "outputs": [
    {
     "name": "stdout",
     "output_type": "stream",
     "text": [
      "UNIVERSITAS NUSA PUTRA SUKABUMI\n",
      "PUTRA NUSA\n",
      "NIVERSITAS NSA PTRA SKABMI\n",
      "SUKABUMI PUTRA NUSA UNIVERSITAS\n",
      "UNPS\n",
      "TAS SAPU BUMI\n"
     ]
    }
   ],
   "source": [
    "kalimat = \"UNIVERSITAS NUSA PUTRA SUKABUMI\"\n",
    "\n",
    "print(\"UNIVERSITAS NUSA PUTRA SUKABUMI\")\n",
    "list_nama = kalimat.split()\n",
    "kata1 = list_nama[0]\n",
    "kata2 = list_nama[1]\n",
    "kata3= list_nama[2]\n",
    "kata4= list_nama[3]\n",
    "\n",
    "print(list_nama[2],list_nama [1])\n",
    "print(kalimat.replace('U', ''))\n",
    "print(\"{3} {2} {1} {0}\".format(kata1,kata2,kata3,kata4))\n",
    "print(\"{0}{1}{2}{3}\".format(kata1[0],kata2[0],kata3[0],kata4[0]))\n",
    "print(\"{0} {1}{2} {3}\".format(kata1[8:11],kata2[2:4],kata3[0:2],kata4[4:8]))"
   ]
  },
  {
   "cell_type": "code",
   "execution_count": null,
   "id": "05809875",
   "metadata": {},
   "outputs": [],
   "source": []
  },
  {
   "cell_type": "code",
   "execution_count": null,
   "id": "c316d2f4",
   "metadata": {},
   "outputs": [],
   "source": []
  }
 ],
 "metadata": {
  "kernelspec": {
   "display_name": "Python 3 (ipykernel)",
   "language": "python",
   "name": "python3"
  },
  "language_info": {
   "codemirror_mode": {
    "name": "ipython",
    "version": 3
   },
   "file_extension": ".py",
   "mimetype": "text/x-python",
   "name": "python",
   "nbconvert_exporter": "python",
   "pygments_lexer": "ipython3",
   "version": "3.11.5"
  }
 },
 "nbformat": 4,
 "nbformat_minor": 5
}
